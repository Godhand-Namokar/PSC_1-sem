{
 "cells": [
  {
   "cell_type": "code",
   "execution_count": 1,
   "id": "f6029e98-5143-4740-bc68-a6ba3b925b41",
   "metadata": {},
   "outputs": [],
   "source": [
    "name = \"we are learning problem solving using computation\""
   ]
  },
  {
   "cell_type": "code",
   "execution_count": 2,
   "id": "37cbfa01-2a4e-4bb3-bc2b-1905f1512a75",
   "metadata": {},
   "outputs": [
    {
     "data": {
      "text/plain": [
       "'rael era ew'"
      ]
     },
     "execution_count": 2,
     "metadata": {},
     "output_type": "execute_result"
    }
   ],
   "source": [
    "name[10:-50:-1]"
   ]
  },
  {
   "cell_type": "code",
   "execution_count": 3,
   "id": "d7b16a69-c5be-4036-adc4-7baf65a51948",
   "metadata": {},
   "outputs": [
    {
     "data": {
      "text/plain": [
       "'apcnunl lrgne'"
      ]
     },
     "execution_count": 3,
     "metadata": {},
     "output_type": "execute_result"
    }
   ],
   "source": [
    "name[-5:5:-3]"
   ]
  },
  {
   "cell_type": "code",
   "execution_count": 5,
   "id": "0d9629e4-fdca-476a-9a91-777d7e917af0",
   "metadata": {},
   "outputs": [],
   "source": [
    "name = \"NamOKaR kAstUrE\""
   ]
  },
  {
   "cell_type": "code",
   "execution_count": 6,
   "id": "654b00e8-732a-4b79-9fb6-fda1ff542cb7",
   "metadata": {},
   "outputs": [
    {
     "data": {
      "text/plain": [
       "'nAMokAr KaSTuRe'"
      ]
     },
     "execution_count": 6,
     "metadata": {},
     "output_type": "execute_result"
    }
   ],
   "source": [
    "name.swapcase()"
   ]
  },
  {
   "cell_type": "code",
   "execution_count": null,
   "id": "83a122ee-f559-4b21-8a7d-6d0444ad4af5",
   "metadata": {},
   "outputs": [],
   "source": [
    "#task2"
   ]
  },
  {
   "cell_type": "code",
   "execution_count": 7,
   "id": "6bc04d20-6f24-422b-8544-d4a2d0938430",
   "metadata": {},
   "outputs": [],
   "source": [
    "name = name.swapcase()"
   ]
  },
  {
   "cell_type": "code",
   "execution_count": 8,
   "id": "65da49a4-a42e-495c-b5de-06596cc76237",
   "metadata": {},
   "outputs": [
    {
     "data": {
      "text/plain": [
       "'nAMokAr KaSTuRe'"
      ]
     },
     "execution_count": 8,
     "metadata": {},
     "output_type": "execute_result"
    }
   ],
   "source": [
    "name"
   ]
  },
  {
   "cell_type": "code",
   "execution_count": 10,
   "id": "6b509651-c09d-4180-af70-ac5a68a58ebc",
   "metadata": {},
   "outputs": [],
   "source": [
    "#task3"
   ]
  },
  {
   "cell_type": "code",
   "execution_count": 15,
   "id": "4f1169c1-b35b-4da4-9b0f-6d65e65f78db",
   "metadata": {},
   "outputs": [],
   "source": [
    "name = \"NamOKaR kAstUrE\""
   ]
  },
  {
   "cell_type": "code",
   "execution_count": 16,
   "id": "b691b32e-bfb8-49bc-835e-fef5ee87f7b4",
   "metadata": {},
   "outputs": [
    {
     "name": "stdout",
     "output_type": "stream",
     "text": [
      "N@a@m@O@K@a@R@ @k@A@s@t@U@r@E\n"
     ]
    }
   ],
   "source": [
    "print(\"@\".join(name))"
   ]
  },
  {
   "cell_type": "code",
   "execution_count": 17,
   "id": "979c9605-83c9-4504-bbcc-b1fe61984dbb",
   "metadata": {},
   "outputs": [],
   "source": [
    "#task4"
   ]
  },
  {
   "cell_type": "code",
   "execution_count": 18,
   "id": "29dd42cf-6d9f-493c-b0ce-5212c898eb55",
   "metadata": {},
   "outputs": [],
   "source": [
    "a = 5945368"
   ]
  },
  {
   "cell_type": "code",
   "execution_count": 19,
   "id": "f7c0b955-189c-4bc0-842d-73a86dca3b87",
   "metadata": {},
   "outputs": [
    {
     "data": {
      "text/plain": [
       "True"
      ]
     },
     "execution_count": 19,
     "metadata": {},
     "output_type": "execute_result"
    }
   ],
   "source": [
    "a.is_integer()"
   ]
  },
  {
   "cell_type": "code",
   "execution_count": 24,
   "id": "5807e5dc-ef97-49fe-855b-9fd1f875a095",
   "metadata": {},
   "outputs": [],
   "source": [
    "name1 = \"arnavmahajan\""
   ]
  },
  {
   "cell_type": "code",
   "execution_count": 25,
   "id": "37722867-5441-4701-a73b-32bbea5fd715",
   "metadata": {},
   "outputs": [
    {
     "data": {
      "text/plain": [
       "True"
      ]
     },
     "execution_count": 25,
     "metadata": {},
     "output_type": "execute_result"
    }
   ],
   "source": [
    "name1.isalpha()"
   ]
  },
  {
   "cell_type": "code",
   "execution_count": 26,
   "id": "fb8f90c2-c717-41c7-8a8a-215688071d36",
   "metadata": {},
   "outputs": [
    {
     "data": {
      "text/plain": [
       "False"
      ]
     },
     "execution_count": 26,
     "metadata": {},
     "output_type": "execute_result"
    }
   ],
   "source": [
    "name1.startswith('A')"
   ]
  },
  {
   "cell_type": "code",
   "execution_count": 27,
   "id": "8ab81b29-c006-4264-8f5a-3f853b71bbc3",
   "metadata": {},
   "outputs": [
    {
     "data": {
      "text/plain": [
       "'arnavmahajan'"
      ]
     },
     "execution_count": 27,
     "metadata": {},
     "output_type": "execute_result"
    }
   ],
   "source": [
    "name1"
   ]
  },
  {
   "cell_type": "code",
   "execution_count": 29,
   "id": "78fb1970-0d5f-40c3-89ae-29ae1dc1c6da",
   "metadata": {},
   "outputs": [
    {
     "data": {
      "text/plain": [
       "'najahamvanra'"
      ]
     },
     "execution_count": 29,
     "metadata": {},
     "output_type": "execute_result"
    }
   ],
   "source": [
    "\"\".join(reversed(name1))"
   ]
  },
  {
   "cell_type": "code",
   "execution_count": null,
   "id": "2b485fe7-645d-4d98-8dfb-df0378f279f7",
   "metadata": {},
   "outputs": [],
   "source": []
  },
  {
   "cell_type": "code",
   "execution_count": null,
   "id": "01f102d3-d522-46ff-a9aa-753b13176df9",
   "metadata": {},
   "outputs": [],
   "source": []
  }
 ],
 "metadata": {
  "kernelspec": {
   "display_name": "Python 3 (ipykernel)",
   "language": "python",
   "name": "python3"
  },
  "language_info": {
   "codemirror_mode": {
    "name": "ipython",
    "version": 3
   },
   "file_extension": ".py",
   "mimetype": "text/x-python",
   "name": "python",
   "nbconvert_exporter": "python",
   "pygments_lexer": "ipython3",
   "version": "3.12.4"
  }
 },
 "nbformat": 4,
 "nbformat_minor": 5
}
